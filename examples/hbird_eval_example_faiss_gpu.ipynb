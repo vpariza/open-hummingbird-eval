{
 "cells": [
  {
   "cell_type": "markdown",
   "metadata": {
    "id": "xutc-cbBj3dH"
   },
   "source": [
    "## Example on how to evaluate a vision encoder with the Hummingbird or Dense NN Retrieval Evaluation"
   ]
  },
  {
   "cell_type": "markdown",
   "metadata": {
    "id": "1H9JpV77Be7x"
   },
   "source": [
    "<a href=\"https://githubtocolab.com/vpariza/open-hummingbird-eval/blob/main/examples/hbird_eval_example_faiss_gpu.ipynb\">\n",
    "  <img src=\"https://colab.research.google.com/assets/colab-badge.svg\" alt=\"Open In Colab\"/>\n",
    "</a>"
   ]
  },
  {
   "cell_type": "markdown",
   "metadata": {
    "id": "ixaUSRg4kBZo"
   },
   "source": [
    "### 1. Install required Libraries"
   ]
  },
  {
   "cell_type": "code",
   "execution_count": null,
   "metadata": {
    "id": "S2twjreBOgfP"
   },
   "outputs": [],
   "source": [
    "!pip install torch==2.2.2 torchvision==0.17.2 torchaudio==2.2.2 --index-url https://download.pytorch.org/whl/cu121\n",
    "!pip install lightning==2.4.0\n",
    "!pip install torchmetrics==1.7.0\n",
    "!pip install tqdm==4.67.1 # optional\n",
    "!pip install scipy==1.15.2\n",
    "!pip install joblib==1.4.2\n",
    "!pip install numpy==1.26.4\n",
    "!pip install triton==2.2.0\n",
    "!pip install faiss-gpu-cu12\n",
    "!pip install gdown\n",
    "\n",
    "!pip uninstall -y thinc"
   ]
  },
  {
   "cell_type": "markdown",
   "metadata": {},
   "source": [
    "**Important**: After the installation step please restart the Runtime/Kernel before continuing with the step 2."
   ]
  },
  {
   "cell_type": "markdown",
   "metadata": {
    "id": "n1DoQXmfkHdr"
   },
   "source": [
    "### 2. Clone our repository"
   ]
  },
  {
   "cell_type": "code",
   "execution_count": null,
   "metadata": {
    "id": "hSNBEsjWYH58"
   },
   "outputs": [],
   "source": [
    "!git clone https://github.com/vpariza/open-hummingbird-eval.git"
   ]
  },
  {
   "cell_type": "code",
   "execution_count": null,
   "metadata": {
    "id": "B9t4oTA4YLAN"
   },
   "outputs": [],
   "source": [
    "# Move to the repository folder\n",
    "%cd open-hummingbird-eval"
   ]
  },
  {
   "cell_type": "markdown",
   "metadata": {},
   "source": [
    "### 3. Install repo"
   ]
  },
  {
   "cell_type": "code",
   "execution_count": null,
   "metadata": {},
   "outputs": [],
   "source": [
    "!pip install ."
   ]
  },
  {
   "cell_type": "markdown",
   "metadata": {
    "id": "gZTwdFNni5qd"
   },
   "source": [
    "### 3. Download your preferred dataset"
   ]
  },
  {
   "cell_type": "code",
   "execution_count": null,
   "metadata": {
    "id": "IYRWameDkPSb"
   },
   "outputs": [],
   "source": [
    "# Used to delete previously downloaded and used\n",
    "# !rm -rf ./VOCSegmentation\n",
    "# !rm voc_data.zip"
   ]
  },
  {
   "cell_type": "markdown",
   "metadata": {
    "id": "0u6ugpZ4i-cx"
   },
   "source": [
    "#### Option 1: Tiny Pascal VOC"
   ]
  },
  {
   "cell_type": "code",
   "execution_count": null,
   "metadata": {
    "id": "DRcN5GxQRXwR"
   },
   "outputs": [],
   "source": [
    "# Download the tiny Pascal VOC\n",
    "!wget -O voc_data.zip \"https://drive.google.com/uc?id=1o9evnop5BJnT47jwFk9cUp3TxHRdNpVN\""
   ]
  },
  {
   "cell_type": "markdown",
   "metadata": {
    "id": "KfUOtdnSjDeg"
   },
   "source": [
    "#### Option 2: Mini Pascal VOC"
   ]
  },
  {
   "cell_type": "code",
   "execution_count": null,
   "metadata": {
    "id": "C9V-5ciTRrcH"
   },
   "outputs": [],
   "source": [
    "# Download the mini Pascal VOC\n",
    "!wget -O voc_data.zip \"https://drive.google.com/uc?id=1GoRApuZzsM8a5nTa-wyEsLPOXPJuzbcT\""
   ]
  },
  {
   "cell_type": "markdown",
   "metadata": {
    "id": "bjiJpflZjOiR"
   },
   "source": [
    "#### Option 3: Pascal VOC"
   ]
  },
  {
   "cell_type": "code",
   "execution_count": null,
   "metadata": {
    "id": "Zgp3qp4NR75q"
   },
   "outputs": [],
   "source": [
    "# Download the full Pascal VOC\n",
    "!wget -O voc_data.zip \"https://drive.google.com/uc?id=1LITii48SINBFAankzh_HlYWx5jCJzG4X\""
   ]
  },
  {
   "cell_type": "markdown",
   "metadata": {
    "id": "TBoMdNrYjV48"
   },
   "source": [
    "### 4. Unzip Contents of zip Dataset"
   ]
  },
  {
   "cell_type": "code",
   "execution_count": null,
   "metadata": {
    "id": "YW_dHiWRR7Qe"
   },
   "outputs": [],
   "source": [
    "!unzip voc_data.zip"
   ]
  },
  {
   "cell_type": "markdown",
   "metadata": {
    "id": "Jpr8oXkLje11"
   },
   "source": [
    "### 5. Evaluate a preferred model on the downloaded dataset"
   ]
  },
  {
   "cell_type": "code",
   "execution_count": null,
   "metadata": {
    "id": "t_Izg08WLmtB"
   },
   "outputs": [],
   "source": [
    "import torch\n",
    "from hbird.hbird_eval import hbird_evaluation"
   ]
  },
  {
   "cell_type": "code",
   "execution_count": null,
   "metadata": {
    "id": "JbQdPNThK_RR"
   },
   "outputs": [],
   "source": [
    "# Parameters for the model dino\n",
    "device = 'cuda'\n",
    "input_size = 224\n",
    "batch_size = 64\n",
    "patch_size = 16\n",
    "embed_dim = 384\n",
    "model = torch.hub.load('facebookresearch/dino:main', 'dino_vits16')"
   ]
  },
  {
   "cell_type": "code",
   "execution_count": null,
   "metadata": {},
   "outputs": [],
   "source": [
    "# Dataset Configurations\n",
    "dataset_name='voc'\n",
    "data_dir='./VOCSegmentation'\n",
    "train_fs_path= './VOCSegmentation/sets/trainaug.txt'\n",
    "val_fs_path= './VOCSegmentation/sets/val.txt'"
   ]
  },
  {
   "cell_type": "code",
   "execution_count": null,
   "metadata": {
    "id": "BtI_ZhTVO6Rw"
   },
   "outputs": [],
   "source": [
    "def extract_dino_features(model, imgs):\n",
    "    return model.get_intermediate_layers(imgs)[0][:, 1:], None"
   ]
  },
  {
   "cell_type": "code",
   "execution_count": null,
   "metadata": {
    "id": "XzmpXeFQPAPO"
   },
   "outputs": [],
   "source": [
    "hbird_miou = hbird_evaluation(model.to(device),\n",
    "        d_model=embed_dim,        # size of the embedding feature vectors of patches\n",
    "        patch_size=patch_size,\n",
    "        batch_size = batch_size,\n",
    "        input_size=input_size,\n",
    "        augmentation_epoch=1,     # how many iterations of augmentations to use on top of the training dataset in order to generate the memory\n",
    "        device=device,\n",
    "        return_knn_details=False, # whether to return additional NNs details\n",
    "        nn_method='faiss',\n",
    "        n_neighbours=30,         # the number of neighbors to fetch per image patch\n",
    "        nn_params=None,           # Other parameters to be used for the k-NN operator\n",
    "        ftr_extr_fn=extract_dino_features,           # function that extracts features from a vision encoder on images\n",
    "        dataset_name=dataset_name,       # the name of the dataset to use, currently only Pascal VOC is included.\n",
    "        data_dir=data_dir,    # path to the dataset to use for evaluation\n",
    "        memory_size=None,\n",
    "        train_fs_path=train_fs_path,\n",
    "        val_fs_path=val_fs_path)\n",
    "print('Hummingbird Evaluation (mIoU):', hbird_miou)"
   ]
  }
 ],
 "metadata": {
  "accelerator": "GPU",
  "colab": {
   "collapsed_sections": [
    "KfUOtdnSjDeg"
   ],
   "gpuType": "T4",
   "provenance": []
  },
  "kernelspec": {
   "display_name": "posentangle_v2_temp",
   "language": "python",
   "name": "python3"
  },
  "language_info": {
   "name": "python",
   "version": "3.11.9"
  }
 },
 "nbformat": 4,
 "nbformat_minor": 0
}
